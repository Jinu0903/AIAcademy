{
  "nbformat": 4,
  "nbformat_minor": 0,
  "metadata": {
    "colab": {
      "name": "PreAssignment#1.ipynb",
      "provenance": [],
      "authorship_tag": "ABX9TyMyqWJ1oSrp+S9oWceNm5MG",
      "include_colab_link": true
    },
    "kernelspec": {
      "name": "python3",
      "display_name": "Python 3"
    }
  },
  "cells": [
    {
      "cell_type": "markdown",
      "metadata": {
        "id": "view-in-github",
        "colab_type": "text"
      },
      "source": [
        "<a href=\"https://colab.research.google.com/github/Jinu0903/AIAcademy/blob/master/PreAssignment_1.ipynb\" target=\"_parent\"><img src=\"https://colab.research.google.com/assets/colab-badge.svg\" alt=\"Open In Colab\"/></a>"
      ]
    },
    {
      "cell_type": "markdown",
      "metadata": {
        "id": "57OX2U-IQ0od",
        "colab_type": "text"
      },
      "source": [
        "# 인공지능 활용 사례\n",
        "\n",
        "## 음성 분야\n",
        "\n",
        "* Moises.ai \n",
        "  * 인공지능을 활용하여 원래 음원에서 반주와 보컬을 추출하는 서비스입니다.\n",
        "\n",
        "## 언어 분야\n",
        "\n",
        "* 파파고 번역기 (papago.naver.com)\n",
        "  * 언어에서는 여러가지 의미가 반영이 되어 있지만 인공지능이 통계적으로 가장 많이 쓰이는 의미를 추출해 내서 번역을 합니다.\n",
        "  * 통계적인 부분을 바탕으로 문맥전체를 알맞게 해석하도록 작동합니다.\n",
        "\n",
        "## 이미지 분야\n",
        "* Image recognition CAPTCHA (Completely Automated Public Turing Test to Tell Computers and Humans Apart)\n",
        "  * 3 x 3 혹은 4 x 4 의 이미지 그리드에서 주어진 단어에 맞는 이미지를 선택하게 하여 사람인지 봇인지 판별해내는 보안 방식입니다.\n",
        "\n",
        "## 자율주행 분야\n",
        "* Waymo\n",
        "  * 미국의 자율주행 기술을 발전해 나가고 있는 회사입니다."
      ]
    }
  ]
}