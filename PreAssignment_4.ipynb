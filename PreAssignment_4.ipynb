{
  "nbformat": 4,
  "nbformat_minor": 0,
  "metadata": {
    "colab": {
      "name": "PreAssignment#4.ipynb",
      "provenance": [],
      "collapsed_sections": [],
      "include_colab_link": true
    },
    "kernelspec": {
      "name": "python3",
      "display_name": "Python 3"
    }
  },
  "cells": [
    {
      "cell_type": "markdown",
      "metadata": {
        "id": "view-in-github",
        "colab_type": "text"
      },
      "source": [
        "<a href=\"https://colab.research.google.com/github/Jinu0903/AIAcademy/blob/master/PreAssignment_4.ipynb\" target=\"_parent\"><img src=\"https://colab.research.google.com/assets/colab-badge.svg\" alt=\"Open In Colab\"/></a>"
      ]
    },
    {
      "cell_type": "markdown",
      "metadata": {
        "id": "wxkL6PjwsI6L",
        "colab_type": "text"
      },
      "source": [
        "# 4주차 과제\n",
        "- 용어 정리\n",
        "- 딥러닝 강의 클론 코딩\n",
        "- 딥러닝 순전파 & 역전파 계산"
      ]
    },
    {
      "cell_type": "markdown",
      "metadata": {
        "id": "ixEtDe6_uGgI",
        "colab_type": "text"
      },
      "source": [
        "## 1. 용어 정리\n",
        "\n",
        "다음 제시된 단어의 정의(설명)를 정리하여 작성 하세요.\n",
        "\n",
        "* 2문장 이상 작성 해 주세요. \n",
        "* 주제(단어)와 크게 벗어나지만 않는다면 정답처리 됩니다.\n",
        "* 강의 뿐 아니라 기타 레퍼런스를 참고하여 작성하셔도 됩니다. (기타 레퍼런스를 참고하신 경우, 해당 레퍼런스를 정리하여 하단에 작성해 주세요.)\n"
      ]
    },
    {
      "cell_type": "markdown",
      "metadata": {
        "id": "0lfwat8eurKZ",
        "colab_type": "text"
      },
      "source": [
        "__(예시)__\n",
        "### 심층 신경망\n",
        ": 입력층과 출력층 사이에 여러 개의 은닉층들로 이뤄진 인공신경망이다. 심층 신경망은 일반적으로 인공신경망과 마찬가지로 복잡한 비선형 관계들을 모델링 할 수 있다. 신층신경망의 목적은 분류 및 수치예측을 하기 위함이고 이미지 트레이닝이나 문자인식과 같은 분야에서 매우 유용하게 쓰이고 있다."
      ]
    },
    {
      "cell_type": "markdown",
      "metadata": {
        "id": "Y8YJNKG_v65A",
        "colab_type": "text"
      },
      "source": [
        "### MCP 뉴런\n",
        ": 워랜 맥컬록과 월터 피츠가 발표한 원래 뇌의 뉴런의 간소화된 개념이다. 뉴런이 입력신호를 받고, 그 신호를 처리하고, 다른 연결된 뉴런에 출력을 내보낸다는 개념이다 (입력 -> 처리 -> 출력). 이 뉴런을 이진출력을 내는 논리 회로로 표현함.\n",
        "\n",
        "### 퍼셉트론\n",
        ": MCP 뉴런을 기반으로한 인공신경망이다. 퍼셉트론은 어떠한 입력값과 가중치에 대하여 특정 임계값보다 크면 1을 작으면 0을 출력한다.\n",
        "\n",
        "### 역전파\n",
        ": 신경망의 출력부터 시작해서 역으로 오차를 보내서 가중치를 재설정하는 방법이다. 이런식으로 역전파 기법을 여러번 반복하면 가중치가 업데이트되면서 출력값의 오차가 줄어나가게 된다.\n",
        "\n",
        "### 강화학습\n",
        ": 에이전트와 환경으로만 구성된다. 즉, 현재 상태에서 에이전트가 실행해야할 가장 최적의 행동을 보상을 주는 방식으로 찾는 학습 방법이다. \n",
        "\n",
        "### 과적합\n",
        ": 분류의 분할작업이 과하게 이루어지면 발생하게 되는 문제이다. 즉, 학습데이터를 과하게 학습을 하게 되면 실제로 나타나는 데이터의 오차가 크게 나타나게 된다.\n",
        "\n",
        "### 차원의 저주\n",
        ": 고정된 크기의 데이터셋 차원이 늘어남에 따라서 특성 공간이 희소해 지는 현상이다. 학습 데이터가 많을때는 학습이 잘 되지만 차원이 커짐에 따라 학습 효율이 떨어지는 것이다.\n",
        "\n"
      ]
    },
    {
      "cell_type": "markdown",
      "metadata": {
        "id": "d-zfFXLCy6jD",
        "colab_type": "text"
      },
      "source": [
        "## 2. 딥러닝 강의 클론 코딩\n",
        "\n",
        "####__퍼셉트론 구조 구현하기__ \n",
        "딥러닝 강의(__딥러닝 원리[1] 3:15 ~ 5:15 부분__)를 보고 코드를 따라 치며 출력 결과를 만드세요.\n",
        " \n",
        "\n",
        "* 하나의 코드셀에 해당 코드를 한번에 다 적어서 실행해주세요 (__그렇게 하지 않을 경우, 아래 이미지와 같은 출력값이 나오지 않을 수 있습니다__)\n",
        "\n",
        "*__주의!__ 실제로 코딩해서 출력해보면 강의에 나온 출력 결과와 다르게 나옵니다!!\n"
      ]
    },
    {
      "cell_type": "code",
      "metadata": {
        "id": "soi9BSqieKrd",
        "colab_type": "code",
        "outputId": "b751ffa7-e117-4f84-8736-f88618c69c42",
        "colab": {
          "base_uri": "https://localhost:8080/",
          "height": 204
        }
      },
      "source": [
        "import tensorflow as tf\n",
        "import math\n",
        "tf.compat.v1.set_random_seed(2020)\n",
        "x = 1\n",
        "y = 0\n",
        "w = tf.random.normal([1], 0, 1)\n",
        "\n",
        "def sigmoid(x):\n",
        "  return 1 / (1 + math.exp(-x))\n",
        "\n",
        "output = sigmoid(x * w)\n",
        "print(output)\n",
        "\n",
        "for i in range(1000):\n",
        "  output = sigmoid(x * w)\n",
        "  error = y - output\n",
        "  w = w + x * 0.1 * error\n",
        "\n",
        "  if i % 100 == 99:\n",
        "    print(\"학습 횟수: \", i, \"Error: \", error, \"예측 결과: \", output)"
      ],
      "execution_count": 0,
      "outputs": [
        {
          "output_type": "stream",
          "text": [
            "0.47477188589261\n",
            "학습 횟수:  99 Error:  -0.10010598284299604 예측 결과:  0.10010598284299604\n",
            "학습 횟수:  199 Error:  -0.05178399422833116 예측 결과:  0.05178399422833116\n",
            "학습 횟수:  299 Error:  -0.034590451977903586 예측 결과:  0.034590451977903586\n",
            "학습 횟수:  399 Error:  -0.02588962752851373 예측 결과:  0.02588962752851373\n",
            "학습 횟수:  499 Error:  -0.020658699939863617 예측 결과:  0.020658699939863617\n",
            "학습 횟수:  599 Error:  -0.017174253993457355 예측 결과:  0.017174253993457355\n",
            "학습 횟수:  699 Error:  -0.014689506449480992 예측 결과:  0.014689506449480992\n",
            "학습 횟수:  799 Error:  -0.012829497265431342 예측 결과:  0.012829497265431342\n",
            "학습 횟수:  899 Error:  -0.011385568271837804 예측 결과:  0.011385568271837804\n",
            "학습 횟수:  999 Error:  -0.010232493309882492 예측 결과:  0.010232493309882492\n"
          ],
          "name": "stdout"
        }
      ]
    },
    {
      "cell_type": "markdown",
      "metadata": {
        "id": "wcc5mzI9oZ7r",
        "colab_type": "text"
      },
      "source": [
        "![대체 텍스트](https://www.notion.so/image/https%3A%2F%2Fs3-us-west-2.amazonaws.com%2Fsecure.notion-static.com%2F0cceeed0-0235-4b0f-af88-0b8c377d5b4b%2F_2020-06-09__9.35.23.png?table=block&id=88fd8912-9356-49a4-9fda-a1a63fe96ea9&width=2870&cache=v2)"
      ]
    },
    {
      "cell_type": "markdown",
      "metadata": {
        "id": "kr0HVRk8fOom",
        "colab_type": "text"
      },
      "source": [
        "## 3. 딥러닝 순전파 & 역전파 계산\n",
        "\n",
        "딥러닝 강의(__딥러닝 원리[2] 0:55 ~ 4:32 부분__)에 나오는 순전파 & 역전파 계산에 대한 문제 입니다.\n",
        "\n",
        "해당 영상과 다음 이미지를 참고하여 다음 2가지 물음에 답하세요.\n",
        "\n",
        "\n",
        "(1) 학습률이 0.2 일 경우 출력층의 노드값\n",
        "\n",
        "(2) 학습률이 0.1과 0.2 중 기대출력값이 지도데이터 \"3\"과 더 가까운 학습률은?"
      ]
    },
    {
      "cell_type": "markdown",
      "metadata": {
        "id": "CpwPFWhOUzww",
        "colab_type": "text"
      },
      "source": [
        "![대체 텍스트](https://www.notion.so/image/https%3A%2F%2Fs3-us-west-2.amazonaws.com%2Fsecure.notion-static.com%2Ff54dfd45-92ec-44ae-9616-6949d2484a45%2F_2020-06-10__5.22.03.png?table=block&id=ee05da89-3ceb-4ad9-a2d3-c9f68d24d1d9&width=3580&cache=v2)"
      ]
    },
    {
      "cell_type": "markdown",
      "metadata": {
        "id": "B2OVY7w5U3CI",
        "colab_type": "text"
      },
      "source": [
        "## (1) 학습률이 0.2 일 경우 출력층의 노드값 : 1.6\n",
        "## (2) 학습률이 0.1과 0.2 중 기대출력값이 지도데이터 \"3\"과 더 가까운 학습률은? : 0.1"
      ]
    }
  ]
}